{
 "cells": [
  {
   "cell_type": "markdown",
   "id": "c9293dc2-8954-4ac4-8e13-96f28daff90d",
   "metadata": {},
   "source": [
    "# TED TALKS\n",
    "\n",
    "This datset looks at ted talks at a whole. It will include the title of the ted talk, the author, the link to watch the ted talk, when the ted talk was presented, the amount of views, and how many like the ted talk got.\n",
    "\n",
    "You can find the data on Kaggle.com or at https://www.kaggle.com/ashishjangra27/ted-talks/version/1 . You do have to make account to actually download the data but once you do, you can just hit the download button and put it directly on to your computer in csv format.\n",
    "\n",
    "Two intersting question I have about the ted talk data set are:\n",
    "\n",
    "1) Which ted talk has the overall most amount of likes?\n",
    "\n",
    "2) Which Author is most frequent in the amount of talks given?\n"
   ]
  },
  {
   "cell_type": "code",
   "execution_count": null,
   "id": "fbe22ef0-871f-413b-91c6-d5cf81abf92d",
   "metadata": {},
   "outputs": [],
   "source": [
    "import numpy as np\n",
    "import pandas as pd\n",
    "from matplotlib import pyplot as plt"
   ]
  },
  {
   "cell_type": "code",
   "execution_count": null,
   "id": "ac1c0fd7-e5be-40dc-b4b7-ec1bb244eb8e",
   "metadata": {},
   "outputs": [],
   "source": [
    "df = pd.read_csv('data/data.csv')\n",
    "df\n"
   ]
  },
  {
   "cell_type": "code",
   "execution_count": null,
   "id": "6beca350-6e2f-407f-9c34-37e05598e879",
   "metadata": {},
   "outputs": [],
   "source": []
  }
 ],
 "metadata": {
  "kernelspec": {
   "display_name": "Python 3 (ipykernel)",
   "language": "python",
   "name": "python3"
  },
  "language_info": {
   "codemirror_mode": {
    "name": "ipython",
    "version": 3
   },
   "file_extension": ".py",
   "mimetype": "text/x-python",
   "name": "python",
   "nbconvert_exporter": "python",
   "pygments_lexer": "ipython3",
   "version": "3.9.7"
  }
 },
 "nbformat": 4,
 "nbformat_minor": 5
}
